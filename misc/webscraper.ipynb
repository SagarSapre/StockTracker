{
 "cells": [
  {
   "cell_type": "code",
   "execution_count": 44,
   "metadata": {},
   "outputs": [],
   "source": [
    "import requests\n",
    "from bs4 import BeautifulSoup\n",
    "from lxml import etree"
   ]
  },
  {
   "cell_type": "code",
   "execution_count": 45,
   "metadata": {},
   "outputs": [],
   "source": [
    "import csv\n",
    "import pandas as pd"
   ]
  },
  {
   "cell_type": "code",
   "execution_count": 46,
   "metadata": {},
   "outputs": [],
   "source": [
    "url=\"https://www.moneycontrol.com/mutual-funds/find-fund/returns?&amc=BIRMUTF,AXMF,ANZGRMUTF,BAXMF,BOBMUF,CANMUTF,DSPMLMF,EDELWMF,TEMMUFT,HDFCMUTF,HSBCMUTF,PRUICM,IDBIMF,IDFMF,IIFLMF,ILFSMF,INDIABMF,LIMF,ITIMF,JMMTFN,KMFLAMC,LICAMCL,MAHMF,MIRAEMF,MOMF,PEERMF,RELCAPM,NJMF,PMF,PPFMF,ESCOMUF,QMF,SAMCOMF,SBIMUTF,SHMF,SUNMUTF,TATMUTF,TAUMUTF,TMF,UKBCMF,UTIMUTFD,YESMF&invtype=Equity&category=Equity%20-%20ETF%2FIndex,Multi%20Cap%20Fund,Large%20Cap%20Fund,Large%20%26%20Mid%20Cap%20Fund,Mid%20Cap%20Fund,Small%20Cap%20Fund,ELSS,Dividend%20Yield%20Fund,Sectoral%2FThematic,Contra%20Fund,Focused%20Fund,Value%20Fund,Flexi%20Cap%20Fund&rank=1,2,3,4,5,0\""
   ]
  },
  {
   "cell_type": "code",
   "execution_count": 47,
   "metadata": {},
   "outputs": [],
   "source": [
    "def send_request():\n",
    "    r = requests.get(url)\n",
    "    return r,r.status_code\n",
    "\n",
    "r=send_request()"
   ]
  },
  {
   "cell_type": "code",
   "execution_count": 48,
   "metadata": {},
   "outputs": [],
   "source": [
    "soup = BeautifulSoup(r[0].text, \"html.parser\")\n",
    "dom = etree.HTML(str(soup))\n",
    "firstfund=dom.xpath('//*[@id=\"dataTableId\"]/tbody/tr[1]/td[1]/a')\n",
    "firstfundlink=dom.xpath('//*[@id=\"dataTableId\"]/tbody/tr[1]/td[1]/a/@href')"
   ]
  },
  {
   "cell_type": "code",
   "execution_count": 49,
   "metadata": {},
   "outputs": [
    {
     "name": "stdout",
     "output_type": "stream",
     "text": [
      "Bandhan Infrastructure Fund - Direct Plan - Growth\n",
      "https://www.moneycontrol.com/mutual-funds/nav/bandhan-infrastructure-fund-direct-plan-growth/MAG731\n"
     ]
    }
   ],
   "source": [
    "print(firstfund[0].text)\n",
    "print(firstfundlink[0])"
   ]
  },
  {
   "cell_type": "code",
   "execution_count": 50,
   "metadata": {},
   "outputs": [],
   "source": [
    "fundname_list=[]\n",
    "fund_nav_url_list=[]"
   ]
  },
  {
   "cell_type": "code",
   "execution_count": 51,
   "metadata": {},
   "outputs": [],
   "source": [
    "for i in range(277):\n",
    "    i=i+1\n",
    "    xpathcodetext=f'//*[@id=\"dataTableId\"]/tbody/tr[{i}]/td[1]/a'\n",
    "    xpathcodeurl=f'//*[@id=\"dataTableId\"]/tbody/tr[{i}]/td[1]/a/@href'\n",
    "    fundname=dom.xpath(xpathcodetext)\n",
    "    fundname=fundname[0].text\n",
    "    fundname_list.append(fundname)\n",
    "    fund_nav_url=dom.xpath(xpathcodeurl)[0]\n",
    "    fund_nav_url_list.append(fund_nav_url)\n"
   ]
  },
  {
   "cell_type": "code",
   "execution_count": 52,
   "metadata": {},
   "outputs": [
    {
     "name": "stdout",
     "output_type": "stream",
     "text": [
      "Nippon India Flexi Cap Fund - Direct Plan - Growth\n",
      "https://www.moneycontrol.com/mutual-funds/nav/nippon-india-flexi-cap-fund-direct-plan-growth/MRC2885\n"
     ]
    }
   ],
   "source": [
    "print(fundname_list[276])\n",
    "print(fund_nav_url_list[276])"
   ]
  },
  {
   "cell_type": "code",
   "execution_count": 53,
   "metadata": {},
   "outputs": [
    {
     "name": "stdout",
     "output_type": "stream",
     "text": [
      "277\n",
      "277\n"
     ]
    }
   ],
   "source": [
    "print(len(fundname_list))\n",
    "print(len(fund_nav_url_list))"
   ]
  },
  {
   "cell_type": "code",
   "execution_count": 54,
   "metadata": {},
   "outputs": [],
   "source": [
    "fund_dict = dict(zip(fundname_list,fund_nav_url_list))\n"
   ]
  },
  {
   "cell_type": "code",
   "execution_count": 55,
   "metadata": {},
   "outputs": [
    {
     "data": {
      "text/html": [
       "<div>\n",
       "<style scoped>\n",
       "    .dataframe tbody tr th:only-of-type {\n",
       "        vertical-align: middle;\n",
       "    }\n",
       "\n",
       "    .dataframe tbody tr th {\n",
       "        vertical-align: top;\n",
       "    }\n",
       "\n",
       "    .dataframe thead th {\n",
       "        text-align: right;\n",
       "    }\n",
       "</style>\n",
       "<table border=\"1\" class=\"dataframe\">\n",
       "  <thead>\n",
       "    <tr style=\"text-align: right;\">\n",
       "      <th></th>\n",
       "      <th>0</th>\n",
       "    </tr>\n",
       "  </thead>\n",
       "  <tbody>\n",
       "    <tr>\n",
       "      <th>Bandhan Infrastructure Fund - Direct Plan - Growth</th>\n",
       "      <td>https://www.moneycontrol.com/mutual-funds/nav/...</td>\n",
       "    </tr>\n",
       "    <tr>\n",
       "      <th>Bandhan Infrastructure Fund - Regular Plan - Growth</th>\n",
       "      <td>https://www.moneycontrol.com/mutual-funds/nav/...</td>\n",
       "    </tr>\n",
       "    <tr>\n",
       "      <th>Edelweiss Maiden Opportunities Fund - Series I - Direct Plan - Growth</th>\n",
       "      <td></td>\n",
       "    </tr>\n",
       "    <tr>\n",
       "      <th>Edelweiss Recently Listed IPO Fund - Direct Plan - Growth</th>\n",
       "      <td>https://www.moneycontrol.com/mutual-funds/nav/...</td>\n",
       "    </tr>\n",
       "    <tr>\n",
       "      <th>Edelweiss Maiden Opportunities Fund - Series I - Growth</th>\n",
       "      <td></td>\n",
       "    </tr>\n",
       "    <tr>\n",
       "      <th>...</th>\n",
       "      <td>...</td>\n",
       "    </tr>\n",
       "    <tr>\n",
       "      <th>HSBC ELSS Fund - Direct Plan - Growth</th>\n",
       "      <td>https://www.moneycontrol.com/mutual-funds/nav/...</td>\n",
       "    </tr>\n",
       "    <tr>\n",
       "      <th>Baroda BNP Paribas Mid Cap Fund - Regular Plan - Growth (Adjusted NAV)</th>\n",
       "      <td></td>\n",
       "    </tr>\n",
       "    <tr>\n",
       "      <th>Baroda BNP Paribas Mid Cap Fund - Regular Plan - Growth</th>\n",
       "      <td>https://www.moneycontrol.com/mutual-funds/nav/...</td>\n",
       "    </tr>\n",
       "    <tr>\n",
       "      <th>WhiteOak Capital Tax Saver Fund - Direct Plan - Growth</th>\n",
       "      <td>https://www.moneycontrol.com/mutual-funds/nav/...</td>\n",
       "    </tr>\n",
       "    <tr>\n",
       "      <th>Nippon India Flexi Cap Fund - Direct Plan - Growth</th>\n",
       "      <td>https://www.moneycontrol.com/mutual-funds/nav/...</td>\n",
       "    </tr>\n",
       "  </tbody>\n",
       "</table>\n",
       "<p>270 rows × 1 columns</p>\n",
       "</div>"
      ],
      "text/plain": [
       "                                                                                                    0\n",
       "Bandhan Infrastructure Fund - Direct Plan - Growth  https://www.moneycontrol.com/mutual-funds/nav/...\n",
       "Bandhan Infrastructure Fund - Regular Plan - Gr...  https://www.moneycontrol.com/mutual-funds/nav/...\n",
       "Edelweiss Maiden Opportunities Fund - Series I ...                                                   \n",
       "Edelweiss Recently Listed IPO Fund - Direct Pla...  https://www.moneycontrol.com/mutual-funds/nav/...\n",
       "Edelweiss Maiden Opportunities Fund - Series I ...                                                   \n",
       "...                                                                                               ...\n",
       "HSBC ELSS Fund - Direct Plan - Growth               https://www.moneycontrol.com/mutual-funds/nav/...\n",
       "Baroda BNP Paribas Mid Cap Fund - Regular Plan ...                                                   \n",
       "Baroda BNP Paribas Mid Cap Fund - Regular Plan ...  https://www.moneycontrol.com/mutual-funds/nav/...\n",
       "WhiteOak Capital Tax Saver Fund - Direct Plan -...  https://www.moneycontrol.com/mutual-funds/nav/...\n",
       "Nippon India Flexi Cap Fund - Direct Plan - Growth  https://www.moneycontrol.com/mutual-funds/nav/...\n",
       "\n",
       "[270 rows x 1 columns]"
      ]
     },
     "execution_count": 55,
     "metadata": {},
     "output_type": "execute_result"
    }
   ],
   "source": [
    "df = pd.DataFrame.from_dict(fund_dict,orient='index')\n",
    "df"
   ]
  },
  {
   "cell_type": "code",
   "execution_count": 56,
   "metadata": {},
   "outputs": [],
   "source": [
    "df.to_excel(\"navlist.xlsx\")"
   ]
  }
 ],
 "metadata": {
  "kernelspec": {
   "display_name": "base",
   "language": "python",
   "name": "python3"
  },
  "language_info": {
   "codemirror_mode": {
    "name": "ipython",
    "version": 3
   },
   "file_extension": ".py",
   "mimetype": "text/x-python",
   "name": "python",
   "nbconvert_exporter": "python",
   "pygments_lexer": "ipython3",
   "version": "3.9.12"
  },
  "orig_nbformat": 4
 },
 "nbformat": 4,
 "nbformat_minor": 2
}
