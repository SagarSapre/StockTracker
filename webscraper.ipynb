{
 "cells": [
  {
   "cell_type": "code",
   "execution_count": 14,
   "metadata": {},
   "outputs": [],
   "source": [
    "import requests\n",
    "from bs4 import BeautifulSoup\n",
    "from lxml import etree\n",
    "\n"
   ]
  },
  {
   "cell_type": "code",
   "execution_count": 121,
   "metadata": {},
   "outputs": [],
   "source": [
    "import csv\n",
    "import pandas as pd"
   ]
  },
  {
   "cell_type": "code",
   "execution_count": 2,
   "metadata": {},
   "outputs": [],
   "source": [
    "url=\"https://www.moneycontrol.com/mutual-funds/find-fund/returns?&amc=BIRMUTF,AXMF,ANZGRMUTF,BAXMF,BOBMUF,CANMUTF,DSPMLMF,EDELWMF,TEMMUFT,HDFCMUTF,HSBCMUTF,PRUICM,IDBIMF,IDFMF,IIFLMF,ILFSMF,INDIABMF,LIMF,ITIMF,JMMTFN,KMFLAMC,LICAMCL,MAHMF,MIRAEMF,MOMF,PEERMF,RELCAPM,NJMF,PMF,PPFMF,ESCOMUF,QMF,SAMCOMF,SBIMUTF,SHMF,SUNMUTF,TATMUTF,TAUMUTF,TMF,UKBCMF,UTIMUTFD,YESMF&invtype=Equity&category=Equity%20-%20ETF%2FIndex,Multi%20Cap%20Fund,Large%20Cap%20Fund,Large%20%26%20Mid%20Cap%20Fund,Mid%20Cap%20Fund,Small%20Cap%20Fund,ELSS,Dividend%20Yield%20Fund,Sectoral%2FThematic,Contra%20Fund,Focused%20Fund,Value%20Fund,Flexi%20Cap%20Fund&rank=1,2,3,4,5,0\"\n"
   ]
  },
  {
   "cell_type": "code",
   "execution_count": 8,
   "metadata": {},
   "outputs": [
    {
     "data": {
      "text/plain": [
       "(200, <Response [200]>)"
      ]
     },
     "execution_count": 8,
     "metadata": {},
     "output_type": "execute_result"
    }
   ],
   "source": [
    "def send_request():\n",
    "    r = requests.get(url)\n",
    "    return r.status_code,r\n",
    "send_request()"
   ]
  },
  {
   "cell_type": "code",
   "execution_count": 29,
   "metadata": {},
   "outputs": [],
   "source": [
    "soup = BeautifulSoup(r.content, \"html.parser\")\n",
    "dom = etree.HTML(str(soup))\n",
    "firstfund=dom.xpath('//*[@id=\"dataTableId\"]/tbody/tr[1]/td[1]/a')\n",
    "firstfundlink=dom.xpath('//*[@id=\"dataTableId\"]/tbody/tr[1]/td[1]/a/@href')"
   ]
  },
  {
   "cell_type": "code",
   "execution_count": 36,
   "metadata": {},
   "outputs": [
    {
     "name": "stdout",
     "output_type": "stream",
     "text": [
      "Nippon India Power & Infra Fund - Direct Plan - Growth\n",
      "https://www.moneycontrol.com/mutual-funds/nav/nippon-india-power-infra-fund-direct-plan-growth/MRC904\n"
     ]
    }
   ],
   "source": [
    "print(firstfund[0].text)\n",
    "print(firstfundlink[0])"
   ]
  },
  {
   "cell_type": "code",
   "execution_count": 98,
   "metadata": {},
   "outputs": [],
   "source": [
    "fundname_list=[]\n",
    "fund_nav_url_list=[]"
   ]
  },
  {
   "cell_type": "code",
   "execution_count": 99,
   "metadata": {},
   "outputs": [],
   "source": [
    "for i in range(277):\n",
    "    i=i+1\n",
    "    xpathcodetext=f'//*[@id=\"dataTableId\"]/tbody/tr[{i}]/td[1]/a'\n",
    "    xpathcodeurl=f'//*[@id=\"dataTableId\"]/tbody/tr[{i}]/td[1]/a/@href'\n",
    "    fundname=dom.xpath(xpathcodetext)\n",
    "    fundname=fundname[0].text\n",
    "    fundname_list.append(fundname)\n",
    "    fund_nav_url=dom.xpath(xpathcodeurl)[0]\n",
    "    fund_nav_url_list.append(fund_nav_url)\n"
   ]
  },
  {
   "cell_type": "code",
   "execution_count": 94,
   "metadata": {},
   "outputs": [
    {
     "name": "stdout",
     "output_type": "stream",
     "text": [
      "Aditya Birla Sun Life Flexi Cap Fund - Regular Plan - Growth\n",
      "https://www.moneycontrol.com/mutual-funds/nav/aditya-birla-sun-life-flexi-cap-fund-regular-plan-growth/MAC006\n"
     ]
    }
   ],
   "source": [
    "print(fundname_list[277])\n",
    "print(fund_nav_url_list[277])"
   ]
  },
  {
   "cell_type": "code",
   "execution_count": 113,
   "metadata": {},
   "outputs": [
    {
     "name": "stdout",
     "output_type": "stream",
     "text": [
      "277\n",
      "277\n"
     ]
    }
   ],
   "source": [
    "print(len(fundname_list))\n",
    "print(len(fund_nav_url_list))"
   ]
  },
  {
   "cell_type": "code",
   "execution_count": null,
   "metadata": {},
   "outputs": [],
   "source": [
    "fund_dict = dict(zip(fundname_list,fund_nav_url_list))\n"
   ]
  },
  {
   "cell_type": "code",
   "execution_count": 129,
   "metadata": {},
   "outputs": [
    {
     "data": {
      "text/html": [
       "<div>\n",
       "<style scoped>\n",
       "    .dataframe tbody tr th:only-of-type {\n",
       "        vertical-align: middle;\n",
       "    }\n",
       "\n",
       "    .dataframe tbody tr th {\n",
       "        vertical-align: top;\n",
       "    }\n",
       "\n",
       "    .dataframe thead th {\n",
       "        text-align: right;\n",
       "    }\n",
       "</style>\n",
       "<table border=\"1\" class=\"dataframe\">\n",
       "  <thead>\n",
       "    <tr style=\"text-align: right;\">\n",
       "      <th></th>\n",
       "      <th>Nippon India Power &amp; Infra Fund - Direct Plan - Growth</th>\n",
       "      <th>Nippon India Power &amp; Infra Fund - Growth</th>\n",
       "      <th>SBI PSU Fund - Direct Plan - Growth</th>\n",
       "      <th>SBI PSU Fund - Regular Plan - Growth</th>\n",
       "      <th>Quant Active Fund - Direct Plan - Growth</th>\n",
       "      <th>Quant Infrastructure Fund - Direct Plan - Growth</th>\n",
       "      <th>Quant Active Fund - Growth</th>\n",
       "      <th>Quant Infrastructure Fund - Growth</th>\n",
       "      <th>Quant Large Cap Fund - Direct Plan - Growth</th>\n",
       "      <th>Quant Large Cap Fund - Regular Plan - Growth</th>\n",
       "      <th>...</th>\n",
       "      <th>Shriram Flexi Cap Fund - Regular Plan - Growth</th>\n",
       "      <th>Sundaram Large Cap Fund - Regular Plan - Growth</th>\n",
       "      <th>Sundaram Large Cap Fund - Regular Plan - Growth (Adjusted NAV)</th>\n",
       "      <th>Sundaram Large and Mid Cap Fund - Direct Plan - Growth (Adjusted NAV)</th>\n",
       "      <th>Sundaram Large and Mid Cap Fund - Direct Plan - Growth</th>\n",
       "      <th>Sundaram Long Term Tax Advantage Fund - Series III - Direct Plan - Growth</th>\n",
       "      <th>IDBI Focused 30 Equity Fund - Growth</th>\n",
       "      <th>Sundaram Long Term Tax Advantage Fund - Series IV - Direct Plan - Growth</th>\n",
       "      <th>Aditya Birla Sun Life Flexi Cap Fund - Regular Plan - Growth</th>\n",
       "      <th>Edelweiss Large Cap Fund - Direct Plan - Growth</th>\n",
       "    </tr>\n",
       "  </thead>\n",
       "  <tbody>\n",
       "    <tr>\n",
       "      <th>1</th>\n",
       "      <td>https://www.moneycontrol.com/mutual-funds/nav/...</td>\n",
       "      <td>https://www.moneycontrol.com/mutual-funds/nav/...</td>\n",
       "      <td>https://www.moneycontrol.com/mutual-funds/nav/...</td>\n",
       "      <td>https://www.moneycontrol.com/mutual-funds/nav/...</td>\n",
       "      <td>https://www.moneycontrol.com/mutual-funds/nav/...</td>\n",
       "      <td>https://www.moneycontrol.com/mutual-funds/nav/...</td>\n",
       "      <td>https://www.moneycontrol.com/mutual-funds/nav/...</td>\n",
       "      <td>https://www.moneycontrol.com/mutual-funds/nav/...</td>\n",
       "      <td>https://www.moneycontrol.com/mutual-funds/nav/...</td>\n",
       "      <td>https://www.moneycontrol.com/mutual-funds/nav/...</td>\n",
       "      <td>...</td>\n",
       "      <td>https://www.moneycontrol.com/mutual-funds/nav/...</td>\n",
       "      <td>https://www.moneycontrol.com/mutual-funds/nav/...</td>\n",
       "      <td></td>\n",
       "      <td></td>\n",
       "      <td>https://www.moneycontrol.com/mutual-funds/nav/...</td>\n",
       "      <td>https://www.moneycontrol.com/mutual-funds/nav/...</td>\n",
       "      <td>https://www.moneycontrol.com/mutual-funds/nav/...</td>\n",
       "      <td>https://www.moneycontrol.com/mutual-funds/nav/...</td>\n",
       "      <td>https://www.moneycontrol.com/mutual-funds/nav/...</td>\n",
       "      <td>https://www.moneycontrol.com/mutual-funds/nav/...</td>\n",
       "    </tr>\n",
       "  </tbody>\n",
       "</table>\n",
       "<p>1 rows × 255 columns</p>\n",
       "</div>"
      ],
      "text/plain": [
       "  Nippon India Power & Infra Fund - Direct Plan - Growth  \\\n",
       "1  https://www.moneycontrol.com/mutual-funds/nav/...       \n",
       "\n",
       "            Nippon India Power & Infra Fund - Growth  \\\n",
       "1  https://www.moneycontrol.com/mutual-funds/nav/...   \n",
       "\n",
       "                 SBI PSU Fund - Direct Plan - Growth  \\\n",
       "1  https://www.moneycontrol.com/mutual-funds/nav/...   \n",
       "\n",
       "                SBI PSU Fund - Regular Plan - Growth  \\\n",
       "1  https://www.moneycontrol.com/mutual-funds/nav/...   \n",
       "\n",
       "            Quant Active Fund - Direct Plan - Growth  \\\n",
       "1  https://www.moneycontrol.com/mutual-funds/nav/...   \n",
       "\n",
       "    Quant Infrastructure Fund - Direct Plan - Growth  \\\n",
       "1  https://www.moneycontrol.com/mutual-funds/nav/...   \n",
       "\n",
       "                          Quant Active Fund - Growth  \\\n",
       "1  https://www.moneycontrol.com/mutual-funds/nav/...   \n",
       "\n",
       "                  Quant Infrastructure Fund - Growth  \\\n",
       "1  https://www.moneycontrol.com/mutual-funds/nav/...   \n",
       "\n",
       "         Quant Large Cap Fund - Direct Plan - Growth  \\\n",
       "1  https://www.moneycontrol.com/mutual-funds/nav/...   \n",
       "\n",
       "        Quant Large Cap Fund - Regular Plan - Growth  ...  \\\n",
       "1  https://www.moneycontrol.com/mutual-funds/nav/...  ...   \n",
       "\n",
       "      Shriram Flexi Cap Fund - Regular Plan - Growth  \\\n",
       "1  https://www.moneycontrol.com/mutual-funds/nav/...   \n",
       "\n",
       "     Sundaram Large Cap Fund - Regular Plan - Growth  \\\n",
       "1  https://www.moneycontrol.com/mutual-funds/nav/...   \n",
       "\n",
       "  Sundaram Large Cap Fund - Regular Plan - Growth (Adjusted NAV)  \\\n",
       "1                                                                  \n",
       "\n",
       "  Sundaram Large and Mid Cap Fund - Direct Plan - Growth (Adjusted NAV)  \\\n",
       "1                                                                         \n",
       "\n",
       "  Sundaram Large and Mid Cap Fund - Direct Plan - Growth  \\\n",
       "1  https://www.moneycontrol.com/mutual-funds/nav/...       \n",
       "\n",
       "  Sundaram Long Term Tax Advantage Fund - Series III - Direct Plan - Growth  \\\n",
       "1  https://www.moneycontrol.com/mutual-funds/nav/...                          \n",
       "\n",
       "                IDBI Focused 30 Equity Fund - Growth  \\\n",
       "1  https://www.moneycontrol.com/mutual-funds/nav/...   \n",
       "\n",
       "  Sundaram Long Term Tax Advantage Fund - Series IV - Direct Plan - Growth  \\\n",
       "1  https://www.moneycontrol.com/mutual-funds/nav/...                         \n",
       "\n",
       "  Aditya Birla Sun Life Flexi Cap Fund - Regular Plan - Growth  \\\n",
       "1  https://www.moneycontrol.com/mutual-funds/nav/...             \n",
       "\n",
       "     Edelweiss Large Cap Fund - Direct Plan - Growth  \n",
       "1  https://www.moneycontrol.com/mutual-funds/nav/...  \n",
       "\n",
       "[1 rows x 255 columns]"
      ]
     },
     "execution_count": 129,
     "metadata": {},
     "output_type": "execute_result"
    }
   ],
   "source": [
    "df=pd.DataFrame()\n",
    "df\n",
    "df = pd.DataFrame(fund_dict,axis)\n",
    "df"
   ]
  }
 ],
 "metadata": {
  "kernelspec": {
   "display_name": "base",
   "language": "python",
   "name": "python3"
  },
  "language_info": {
   "codemirror_mode": {
    "name": "ipython",
    "version": 3
   },
   "file_extension": ".py",
   "mimetype": "text/x-python",
   "name": "python",
   "nbconvert_exporter": "python",
   "pygments_lexer": "ipython3",
   "version": "3.9.12"
  },
  "orig_nbformat": 4
 },
 "nbformat": 4,
 "nbformat_minor": 2
}
